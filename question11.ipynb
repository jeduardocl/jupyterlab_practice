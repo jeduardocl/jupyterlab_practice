{
 "cells": [
  {
   "cell_type": "markdown",
   "id": "5fbd212b-54bb-4d4e-8829-f721a43d384b",
   "metadata": {},
   "source": [
    "# Jose Cruz\n",
    "Notebook for assignment 7.\n"
   ]
  },
  {
   "cell_type": "code",
   "execution_count": 1,
   "id": "0f597f0d-a39f-43cb-9b51-d72f0efc34e3",
   "metadata": {},
   "outputs": [
    {
     "name": "stdout",
     "output_type": "stream",
     "text": [
      "5.0\n"
     ]
    }
   ],
   "source": [
    "def compute_mean(values):\n",
    "    return sum(values) / len(values)\n",
    "print(compute_mean([2, 4, 6, 8]))"
   ]
  },
  {
   "cell_type": "markdown",
   "id": "3300a847-0314-4369-8025-d97db9bf5813",
   "metadata": {},
   "source": [
    "The `compute_mean` function calculates the arithmetic mean of a list of numbers, which is the sum of the numbers divided by the count of numbers. The mean can be expressed in LaTeX notation in two ways:\n",
    "\n",
    "1. Inline style: The mean (\\(\\bar{x}\\)) of a list of numbers can be calculated as $\\bar{x} = \\frac{x_1 + x_2 + \\ldots + x_n}{n}$.\n",
    "\n",
    "2. Display style: It can also be expressed as the sum divided by the count of numbers: $$\\bar{x} = \\frac{1}{n}\\sum_{i=1}^{n}x_i$$."
   ]
  },
  {
   "cell_type": "code",
   "execution_count": null,
   "id": "22d1035a-97c3-49fc-b496-4d75478db46f",
   "metadata": {},
   "outputs": [],
   "source": []
  }
 ],
 "metadata": {
  "kernelspec": {
   "display_name": "Python 3 (ipykernel)",
   "language": "python",
   "name": "python3"
  },
  "language_info": {
   "codemirror_mode": {
    "name": "ipython",
    "version": 3
   },
   "file_extension": ".py",
   "mimetype": "text/x-python",
   "name": "python",
   "nbconvert_exporter": "python",
   "pygments_lexer": "ipython3",
   "version": "3.12.2"
  }
 },
 "nbformat": 4,
 "nbformat_minor": 5
}
